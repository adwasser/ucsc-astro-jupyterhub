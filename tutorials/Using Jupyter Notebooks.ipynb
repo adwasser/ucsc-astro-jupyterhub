{
 "cells": [
  {
   "cell_type": "markdown",
   "metadata": {},
   "source": [
    "To login, go to [amalthea.ucsc.edu](https://amalthea.ucsc.edu) and use your UCSC google email to authenticate.  You should then see the following screen, the \"control panel\" for your own notebook server:\n",
    "\n",
    "<img src=\"images/login.png\">\n",
    "\n",
    "Upon clicking on the big green button, you should see something like the directory page shown below.\n",
    "\n",
    "<img src=\"images/tree.png\">\n",
    "\n",
    "From this page, you can return to the control panel by clicking on the button in the top right corner, from where you can shutdown your server (it will still be accessible later).  You can see your folders and files listed below.  Clicking on folders will take you into that directory.  To move up a directory, click on the top listed directory, which will show two dots.  When you click on the check box next to a directory, you have the option of renaming or deleting the directory.  You can upload new files by clicking on the upload tab in the near top right.\n",
    "\n",
    "If you have an existing notebook file (something that ends in `.ipynb`), you can start that notebook by clicking on it from the directory page.  To make a new notebook file in the directory you're currently in, just click on the \"new\" tab in the near top right, and choose Python 3 from the drop-down menu.  This will bring you to a new tab in your browser, showing something like the image below.\n",
    "\n",
    "<img src=\"images/nb.png\">\n",
    "\n",
    "If you accidently close the tab with your directory page, you can re-open it from the notebook (or any other page) by clicking on the Jupyter icon in the top left.  From the notebook page, you can type lines of Python code into the cell in the middle of the page, which can then be evaluated by either clicking the play button on the toolbar, or by hitting \"Shift + Enter\". This will evaluate the code cell, and move the focus to the next cell (making a new cell if necessary).  You'll notice when editing a cell, there's a faint green border around the cell.  When moving between cells (in the \"command mode\"), there will be a faint blue border.  To go from command mode to edit mode, either click on the cell or hit \"Enter\".  To go from edit mode to command mode, either click outside the cell or hit \"Esc\".\n",
    "\n",
    "From the Edit menu, you can move cells around, delete cells, merge cells above or below, and other operations.  The Insert menu lets you add cells above or below the current cell.  The Cell menu will let you run all cells, or run an individual cell.\n",
    "\n",
    "If you ever need to interrupt the Python interpreter (say you accidently created an endless loop), you can send an interrupt signal either with the stop button on the toolbar or from the Kernel menu.  The Kernel menu will also let you restart the interpreter (which clears all variables) and clear any output from cells.\n",
    "\n",
    "Closing the browser tab that has the notebook page will *not* shutdown the notebook.  You can see what notebooks you have running from the directory page by checking the Running tab next to Files.  Clicking on one of your running notebooks will open a new browser tab with that notebook.\n",
    "\n",
    "In addition to starting notebooks, you can also start a terminal emulator by clicking on the Terminal option in the drop-down menu in the same place you created a new notebook.  These terminal sessions can also be seen in the Running tab."
   ]
  }
 ],
 "metadata": {
  "kernelspec": {
   "display_name": "Python 3",
   "language": "python",
   "name": "python3"
  },
  "language_info": {
   "codemirror_mode": {
    "name": "ipython",
    "version": 3
   },
   "file_extension": ".py",
   "mimetype": "text/x-python",
   "name": "python",
   "nbconvert_exporter": "python",
   "pygments_lexer": "ipython3",
   "version": "3.6.0"
  }
 },
 "nbformat": 4,
 "nbformat_minor": 1
}
