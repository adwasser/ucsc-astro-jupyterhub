{
 "cells": [
  {
   "cell_type": "markdown",
   "metadata": {},
   "source": [
    "## Reading in Data in Python"
   ]
  },
  {
   "cell_type": "markdown",
   "metadata": {},
   "source": [
    "This is a tutorial to get you started with reading in data in Python. Reading in data seems straightforward but can get pretty complicated depending on how your data is formatted. In this class each project group will be dealing with different data so the way that you end up reading in data might be different. Hopefully, this tutorial gives you a starting point as to how simple data is read so that you understand what you're doing when you touch more complicated formats.\n",
    "\n",
    "Some other online tutorials can be found below. These tutorials tend to use slightly different methods but all are valid ways to read in data. Some of these tutorials focus on reading in 'strings' (words) to Python which is also useful to know about:\n",
    "https://newcircle.com/s/post/1572/python_for_beginners_reading_and_manipulating_csv_files#opening-a-csv-file\n",
    "\n",
    "http://www.pythonforbeginners.com/files/reading-and-writing-files-in-python\n",
    "\n",
    "http://www.pythonforbeginners.com/systems-programming/using-the-csv-module-in-python/\n",
    "\n",
    "http://opentechschool.github.io/python-data-intro/core/text-files.html\n",
    "\n",
    "higher-level, more astronomy specific: https://python4astronomers.github.io/files/asciifiles.html"
   ]
  },
  {
   "cell_type": "markdown",
   "metadata": {},
   "source": [
    "For this tutorial I will be reading data in from the \"example.txt\" file. The data in this file looks like:"
   ]
  },
  {
   "cell_type": "raw",
   "metadata": {},
   "source": [
    "0   15\n",
    "1   30\n",
    "2   60\n",
    "3   120\n",
    "4   240\n",
    "5   480"
   ]
  },
  {
   "cell_type": "markdown",
   "metadata": {},
   "source": [
    "When reading in data I find the numpy library to be particularly useful. So let's first load the numpy library."
   ]
  },
  {
   "cell_type": "code",
   "execution_count": 1,
   "metadata": {
    "collapsed": true
   },
   "outputs": [],
   "source": [
    "import numpy as np"
   ]
  },
  {
   "cell_type": "markdown",
   "metadata": {},
   "source": [
    "I use numpy to read in data in two different ways using: loadtxt and genfromtxt. These are both great at reading in data when it's not too complicated\n",
    "\n",
    "The documentation for these two commands can be found here: https://docs.scipy.org/doc/numpy/reference/generated/numpy.loadtxt.html\n",
    "https://docs.scipy.org/doc/numpy/reference/generated/numpy.genfromtxt.html"
   ]
  },
  {
   "cell_type": "markdown",
   "metadata": {},
   "source": [
    "Let's first use loadtxt to read in our data"
   ]
  },
  {
   "cell_type": "code",
   "execution_count": 2,
   "metadata": {
    "collapsed": false
   },
   "outputs": [
    {
     "name": "stdout",
     "output_type": "stream",
     "text": [
      "[[   0.   15.]\n",
      " [   1.   30.]\n",
      " [   2.   60.]\n",
      " [   3.  120.]\n",
      " [   4.  240.]\n",
      " [   5.  480.]]\n"
     ]
    }
   ],
   "source": [
    "data = np.loadtxt('example.txt')\n",
    "\n",
    "print(data)"
   ]
  },
  {
   "cell_type": "markdown",
   "metadata": {},
   "source": [
    "Yay! We have successfully read in our data into Python! However, are data is not in a very usable form right now. For example, if I wanted to plot the second column versus the first column I wouldn't be able to do that right away. So now let's change the keywords that we use to read in data:"
   ]
  },
  {
   "cell_type": "code",
   "execution_count": 3,
   "metadata": {
    "collapsed": false
   },
   "outputs": [
    {
     "name": "stdout",
     "output_type": "stream",
     "text": [
      "[ 0.  1.  2.  3.  4.  5.] [  15.   30.   60.  120.  240.  480.]\n"
     ]
    }
   ],
   "source": [
    "data_x, data_y = np.loadtxt('example.txt', unpack = True)\n",
    "\n",
    "print(data_x, data_y)"
   ]
  },
  {
   "cell_type": "markdown",
   "metadata": {},
   "source": [
    "Here, I've used the keyward \"unpack\" which puts each of the columns in their own array. Using this keyword means that I cannot store all of my data in one variable anymore and I now have to have a variable for each of the columns given. Take a look at some of the other loadtxt keywords that you can use in the documentation above."
   ]
  },
  {
   "cell_type": "markdown",
   "metadata": {},
   "source": [
    "Let's now use genfromtxt to read in the same data. genfromtxt is a very similar package to loadtxt, however, you can use it to read in more complicated data because it has more keywords!"
   ]
  },
  {
   "cell_type": "code",
   "execution_count": 4,
   "metadata": {
    "collapsed": false
   },
   "outputs": [
    {
     "name": "stdout",
     "output_type": "stream",
     "text": [
      "[ 0.  1.  2.  3.  4.  5.] [  15.   30.   60.  120.  240.  480.]\n"
     ]
    }
   ],
   "source": [
    "data_x, data_y = np.genfromtxt('example.txt', unpack = True)\n",
    "\n",
    "print(data_x, data_y)"
   ]
  },
  {
   "cell_type": "markdown",
   "metadata": {},
   "source": [
    "So far reading in the data is the same. However, genfromtxt can do some things that loadtxt cannot. For example, you can tell python how many rows you want to read in from your data. Here, I tell python to just read the first two rows"
   ]
  },
  {
   "cell_type": "code",
   "execution_count": 5,
   "metadata": {
    "collapsed": false
   },
   "outputs": [
    {
     "name": "stdout",
     "output_type": "stream",
     "text": [
      "[ 0.  1.] [ 15.  30.]\n"
     ]
    }
   ],
   "source": [
    "data_x, data_y = np.genfromtxt('example.txt', unpack = True, max_rows=2)\n",
    "\n",
    "print(data_x, data_y)"
   ]
  },
  {
   "cell_type": "markdown",
   "metadata": {},
   "source": [
    "## Try it yourself!\n",
    "\n",
    "Try to use keywords in loadtxt or genfromtxt to change how your data is read. Or, look at some of the tutorials about reading in data in python and try one of those methods out!"
   ]
  },
  {
   "cell_type": "code",
   "execution_count": null,
   "metadata": {
    "collapsed": true
   },
   "outputs": [],
   "source": []
  }
 ],
 "metadata": {
  "kernelspec": {
   "display_name": "Python 3",
   "language": "python",
   "name": "python3"
  },
  "language_info": {
   "codemirror_mode": {
    "name": "ipython",
    "version": 3
   },
   "file_extension": ".py",
   "mimetype": "text/x-python",
   "name": "python",
   "nbconvert_exporter": "python",
   "pygments_lexer": "ipython3",
   "version": "3.6.0"
  }
 },
 "nbformat": 4,
 "nbformat_minor": 0
}
